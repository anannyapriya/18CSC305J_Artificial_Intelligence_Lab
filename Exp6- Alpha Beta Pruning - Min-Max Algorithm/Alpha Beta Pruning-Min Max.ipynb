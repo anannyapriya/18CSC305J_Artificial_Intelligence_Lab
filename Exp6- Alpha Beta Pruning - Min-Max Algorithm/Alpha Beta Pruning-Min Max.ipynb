{
 "cells": [
  {
   "cell_type": "code",
   "execution_count": 2,
   "metadata": {},
   "outputs": [
    {
     "name": "stdout",
     "output_type": "stream",
     "text": [
      "Enter Value 0  : 3\n",
      "Enter Value 1  : 5\n",
      "Enter Value 2  : 6\n",
      "Enter Value 3  : 9\n",
      "Enter Value 4  : 1\n",
      "Enter Value 5  : 2\n",
      "Enter Value 6  : 0\n",
      "Enter Value 7  : -1\n",
      "The optimal value is : 5\n"
     ]
    }
   ],
   "source": [
    "MAX, MIN = 1000, -1000 \n",
    "def minimax(depth, nodeIndex, maximizingPlayer, \n",
    "\t\t\tvalues, alpha, beta): \n",
    "\n",
    "\tif depth == 3: \n",
    "\t\treturn values[nodeIndex] \n",
    "\n",
    "\tif maximizingPlayer: \n",
    "\t\n",
    "\t\tbest = MIN\n",
    "\n",
    "\t\tfor i in range(0, 2): \n",
    "\t\t\t\n",
    "\t\t\tval = minimax(depth + 1, nodeIndex * 2 + i, \n",
    "\t\t\t\t\t\tFalse, values, alpha, beta) \n",
    "\t\t\tbest = max(best, val) \n",
    "\t\t\talpha = max(alpha, best) \n",
    "\n",
    "\t\t\tif beta <= alpha: \n",
    "\t\t\t\tbreak\n",
    "\t\t\n",
    "\t\treturn best \n",
    "\t\n",
    "\telse: \n",
    "\t\tbest = MAX\n",
    "\t\tfor i in range(0, 2): \n",
    "\t\t\n",
    "\t\t\tval = minimax(depth + 1, nodeIndex * 2 + i, \n",
    "\t\t\t\t\t\t\tTrue, values, alpha, beta) \n",
    "\t\t\tbest = min(best, val) \n",
    "\t\t\tbeta = min(beta, best) \n",
    "\t\t\tif beta <= alpha: \n",
    "\t\t\t\tbreak\n",
    "\t\t\n",
    "\t\treturn best \n",
    "\t\n",
    "if __name__ == \"__main__\": \n",
    "\n",
    "    values = []\n",
    "    for i in range(0, 8):\n",
    "\n",
    "        x = int(input(f\"Enter Value {i}  : \"))\n",
    "        values.append(x)\n",
    "\n",
    "    print (\"The optimal value is :\", minimax(0, 0, True, values, MIN, MAX))"
   ]
  }
 ],
 "metadata": {
  "kernelspec": {
   "display_name": "Python 3",
   "language": "python",
   "name": "python3"
  },
  "language_info": {
   "codemirror_mode": {
    "name": "ipython",
    "version": 3
   },
   "file_extension": ".py",
   "mimetype": "text/x-python",
   "name": "python",
   "nbconvert_exporter": "python",
   "pygments_lexer": "ipython3",
   "version": "3.8.5"
  }
 },
 "nbformat": 4,
 "nbformat_minor": 4
}
