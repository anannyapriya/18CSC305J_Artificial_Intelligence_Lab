{
 "cells": [
  {
   "cell_type": "code",
   "execution_count": 1,
   "metadata": {},
   "outputs": [
    {
     "name": "stdout",
     "output_type": "stream",
     "text": [
      "Enter the Lower value of the range : 7\n",
      "Enter the Higher value of the range : 15\n",
      "The sum of the nodes in the range 7 and 15 is 32\n"
     ]
    }
   ],
   "source": [
    "class TreeNode:\n",
    "    def __init__(self, val=0, left=None, right=None):\n",
    "        self.val = val\n",
    "        self.left = left\n",
    "        self.right = right\n",
    "\n",
    "# ITERATIVE APPROACH\n",
    "\n",
    "class Solution(object):\n",
    "    def rangeSumBST(self, root, L, R):\n",
    "        def dfs(node):\n",
    "            if node:\n",
    "                if L <= node.val <= R:\n",
    "                    self.ans += node.val\n",
    "                if L < node.val:\n",
    "                    dfs(node.left)\n",
    "                if node.val < R:\n",
    "                    dfs(node.right)\n",
    "\n",
    "        self.ans = 0\n",
    "        dfs(root)\n",
    "        return self.ans\n",
    "\n",
    "# RECURSIVE APPROACH\n",
    "\n",
    "def rangeSumBST(root, L, R):\n",
    "    ans = 0\n",
    "    stack = [root]\n",
    "    while stack:\n",
    "        node = stack.pop()\n",
    "        if node:\n",
    "            if L <= node.val <= R:\n",
    "                ans += node.val\n",
    "            if L < node.val:\n",
    "                stack.append(node.left)\n",
    "            if node.val < R:\n",
    "                stack.append(node.right)\n",
    "    return ans\n",
    "\n",
    "bst = TreeNode(10)\n",
    "bst.left = TreeNode(5)\n",
    "bst.right = TreeNode(15)\n",
    "bst.left.left = TreeNode(3)\n",
    "bst.left.right = TreeNode(7)\n",
    "bst.right.right = TreeNode(18)\n",
    "\n",
    "min = int(input(\"Enter the Lower value of the range : \"))\n",
    "max = int(input(\"Enter the Higher value of the range : \"))\n",
    "\n",
    "sol = rangeSumBST(bst, min, max)\n",
    "print(f\"The sum of the nodes in the range {min} and {max} is {sol}\")"
   ]
  }
 ],
 "metadata": {
  "kernelspec": {
   "display_name": "Python 3",
   "language": "python",
   "name": "python3"
  },
  "language_info": {
   "codemirror_mode": {
    "name": "ipython",
    "version": 3
   },
   "file_extension": ".py",
   "mimetype": "text/x-python",
   "name": "python",
   "nbconvert_exporter": "python",
   "pygments_lexer": "ipython3",
   "version": "3.8.5"
  }
 },
 "nbformat": 4,
 "nbformat_minor": 4
}
