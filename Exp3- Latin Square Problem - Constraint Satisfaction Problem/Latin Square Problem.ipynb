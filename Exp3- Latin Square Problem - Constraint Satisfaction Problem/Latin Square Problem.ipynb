{
 "cells": [
  {
   "cell_type": "code",
   "execution_count": 1,
   "metadata": {},
   "outputs": [
    {
     "name": "stdout",
     "output_type": "stream",
     "text": [
      "enter no5\n",
      "1 2 3 4 5 \n",
      "5 1 2 3 4 \n",
      "4 5 1 2 3 \n",
      "3 4 5 1 2 \n",
      "2 3 4 5 1 \n"
     ]
    }
   ],
   "source": [
    "def printLatin(n):\n",
    "\n",
    "    k = n + 1\n",
    "\n",
    "    for i in range(1, n + 1, 1):\n",
    "\n",
    "        temp = k\n",
    "        while (temp <= n) :\n",
    "            print(temp, end = \" \")\n",
    "            temp += 1\n",
    "        for j in range(1, k):\n",
    "            print(j, end = \" \")\n",
    "\n",
    "        k -= 1\n",
    "        print()\n",
    "\n",
    "n = int(input(\"enter no\"))\n",
    "\n",
    "printLatin(n)"
   ]
  }
 ],
 "metadata": {
  "kernelspec": {
   "display_name": "Python 3",
   "language": "python",
   "name": "python3"
  },
  "language_info": {
   "codemirror_mode": {
    "name": "ipython",
    "version": 3
   },
   "file_extension": ".py",
   "mimetype": "text/x-python",
   "name": "python",
   "nbconvert_exporter": "python",
   "pygments_lexer": "ipython3",
   "version": "3.8.5"
  }
 },
 "nbformat": 4,
 "nbformat_minor": 4
}
